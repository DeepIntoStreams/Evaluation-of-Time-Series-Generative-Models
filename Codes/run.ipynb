{
 "cells": [
  {
   "cell_type": "code",
   "execution_count": 1,
   "id": "967196fc-3046-4e30-ae8e-364c674cd80b",
   "metadata": {},
   "outputs": [
    {
     "name": "stderr",
     "output_type": "stream",
     "text": [
      "/home/jtao/ac3/envs/test_metric/lib/python3.10/site-packages/tqdm/auto.py:22: TqdmWarning: IProgress not found. Please update jupyter and ipywidgets. See https://ipywidgets.readthedocs.io/en/stable/user_install.html\n",
      "  from .autonotebook import tqdm as notebook_tqdm\n"
     ]
    }
   ],
   "source": [
    "\"\"\"\n",
    "Procedure for calibrating generative models using the unconditional Sig-Wasserstein metric.\n",
    "\"\"\"\n",
    "import ml_collections\n",
    "import copy\n",
    "import wandb\n",
    "import yaml\n",
    "import os\n",
    "\n",
    "from os import path as pt\n",
    "from src.evaluations.evaluations import compute_discriminative_score, fake_loader, compute_classfication_score, plot_summary, full_evaluation\n",
    "import torch\n",
    "from src.utils import get_experiment_dir, save_obj\n",
    "from torch import nn"
   ]
  },
  {
   "cell_type": "code",
   "execution_count": 2,
   "id": "ce3c1110-3350-4023-8ac4-00a0ad65e143",
   "metadata": {},
   "outputs": [
    {
     "name": "stderr",
     "output_type": "stream",
     "text": [
      "Failed to detect the name of this notebook, you can set it manually with the WANDB_NOTEBOOK_NAME environment variable to enable code saving.\n"
     ]
    },
    {
     "name": "stdout",
     "output_type": "stream",
     "text": [
      "1\n"
     ]
    },
    {
     "name": "stderr",
     "output_type": "stream",
     "text": [
      "\u001b[34m\u001b[1mwandb\u001b[0m: Currently logged in as: \u001b[33mhangl\u001b[0m (\u001b[33mdeepintostreams\u001b[0m). Use \u001b[1m`wandb login --relogin`\u001b[0m to force relogin\n"
     ]
    },
    {
     "data": {
      "text/html": [
       "Tracking run with wandb version 0.13.4"
      ],
      "text/plain": [
       "<IPython.core.display.HTML object>"
      ]
     },
     "metadata": {},
     "output_type": "display_data"
    },
    {
     "data": {
      "text/html": [
       "Run data is saved locally in <code>/home/jtao/Gitrepos/Evaluation-of-Time-Series-Generative-Models/Codes/wandb/run-20221017_154320-1f0vgbub</code>"
      ],
      "text/plain": [
       "<IPython.core.display.HTML object>"
      ]
     },
     "metadata": {},
     "output_type": "display_data"
    },
    {
     "data": {
      "text/html": [
       "Syncing run <strong><a href=\"https://wandb.ai/deepintostreams/Generative_model_evaluation/runs/1f0vgbub\" target=\"_blank\">TimeVAE</a></strong> to <a href=\"https://wandb.ai/deepintostreams/Generative_model_evaluation\" target=\"_blank\">Weights & Biases</a> (<a href=\"https://wandb.me/run\" target=\"_blank\">docs</a>)<br/>"
      ],
      "text/plain": [
       "<IPython.core.display.HTML object>"
      ]
     },
     "metadata": {},
     "output_type": "display_data"
    },
    {
     "name": "stdout",
     "output_type": "stream",
     "text": [
      "{'D_hidden_dim': 64, 'D_num_layers': 3, 'D_out_dim': 5, 'D_steps_per_G_step': 3, 'G_hidden_dim': 64, 'G_input_dim': 5, 'G_num_layers': 2, 'algo': 'TimeVAE', 'batch_size': 256, 'comment': None, 'conditional': False, 'custom_seas': None, 'data_type': 'angles', 'dataset': 'ROUGH', 'device': 'cuda', 'gpu_id': '1', 'hidden_layer_sizes': [64, 64], 'latent_dim': 64, 'lr_G': 0.002, 'model': 'TimeVAE', 'model_type': 'VAE', 'n_lags': 50, 'num_classes': 3, 'num_gen_seas': 0, 'pretrained': False, 'reconstruction_wt': 3.0, 'seed': 0, 'steps': 2000, 'train': True, 'trend_poly': 0, 'use_residual_conn': True, 'use_scaler': False, 'wandb_api': '0a2ae01d4ea2b07b7fca1f71e45562ab1a123c80'}\n",
      "data shape: torch.Size([256, 50, 2])\n",
      "TimeVAE\n",
      "ROUGH_TimeVAE\n",
      "13\n",
      "25\n",
      "49\n",
      "VAE: VariationalAutoencoderConvInterpretable(\n",
      "  (encoder): encoder_block(\n",
      "    (encoder): Sequential(\n",
      "      (conv_0): Conv1d(5, 64, kernel_size=(3,), stride=(2,), padding=(1,))\n",
      "      (norm_0): BatchNorm1d(64, eps=1e-05, momentum=0.1, affine=True, track_running_stats=True)\n",
      "      (ReLU_0): ReLU()\n",
      "      (conv_1): Conv1d(64, 64, kernel_size=(3,), stride=(2,), padding=(1,))\n",
      "      (norm_1): BatchNorm1d(64, eps=1e-05, momentum=0.1, affine=True, track_running_stats=True)\n",
      "      (ReLU_1): ReLU()\n",
      "    )\n",
      "    (encoder_mu): Linear(in_features=832, out_features=64, bias=True)\n",
      "    (encoder_log_var): Linear(in_features=832, out_features=64, bias=True)\n",
      "    (sampler): sampling_layer()\n",
      "  )\n",
      ")\n",
      "GPU's available: 1\n"
     ]
    }
   ],
   "source": [
    "config_dir = 'configs/' + 'train_vae.yaml'\n",
    "with open(config_dir) as file:\n",
    "    config = ml_collections.ConfigDict(yaml.safe_load(file))\n",
    "# print(config)\n",
    "os.environ[\"CUDA_VISIBLE_DEVICES\"] = config.gpu_id\n",
    "print(os.environ[\"CUDA_VISIBLE_DEVICES\"])\n",
    "# Set the seed\n",
    "# torch.manual_seed(config.seed)\n",
    "# np.random.seed(config.seed)\n",
    "\n",
    "# initialize weight and bias\n",
    "# Place here your API key.\n",
    "# setup own api key in the config\n",
    "os.environ[\"WANDB_API_KEY\"] = config.wandb_api\n",
    "tags = [\n",
    "    config.algo,\n",
    "    config.dataset,\n",
    "]\n",
    "\n",
    "wandb.init(\n",
    "    project='Generative_model_evaluation',\n",
    "    config=copy.deepcopy(dict(config)),\n",
    "    entity=\"deepintostreams\",\n",
    "    tags=tags,\n",
    "    group=config.dataset,\n",
    "    name=config.algo\n",
    "    # save_code=True,\n",
    "    # job_type=config.function,\n",
    ")\n",
    "config = wandb.config\n",
    "print(config)\n",
    "if (config.device ==\n",
    "        \"cuda\" and torch.cuda.is_available()):\n",
    "    config.update({\"device\": \"cuda:0\"}, allow_val_change=True)\n",
    "else:\n",
    "    config.update({\"device\": \"cpu\"}, allow_val_change=True)\n",
    "# torch.cuda.set_per_process_memory_fraction(0.5, 0)get_dataset\n",
    "from src.datasets.dataloader import get_dataset\n",
    "train_dl, test_dl = get_dataset(config, num_workers=4)\n",
    "from src.baselines.models import get_trainer\n",
    "trainer = get_trainer(config, train_dl, test_dl)"
   ]
  },
  {
   "cell_type": "code",
   "execution_count": 4,
   "id": "b2585595-7880-43f0-a98c-9bfeefbd1b36",
   "metadata": {},
   "outputs": [
    {
     "name": "stdout",
     "output_type": "stream",
     "text": [
      "WARNING! The model exists in directory and will be overwritten\n"
     ]
    }
   ],
   "source": [
    "get_experiment_dir(config)"
   ]
  },
  {
   "cell_type": "code",
   "execution_count": 6,
   "id": "d272a206-2b22-4cad-8300-22de8be479f5",
   "metadata": {},
   "outputs": [
    {
     "name": "stdout",
     "output_type": "stream",
     "text": [
      "2022-10-17 15:44:20.611335\n"
     ]
    },
    {
     "name": "stderr",
     "output_type": "stream",
     "text": [
      "  0%|                                                                                                              | 0/2000 [00:00<?, ?it/s]\n"
     ]
    },
    {
     "ename": "NameError",
     "evalue": "name 'x_real_batch' is not defined",
     "output_type": "error",
     "traceback": [
      "\u001b[0;31m---------------------------------------------------------------------------\u001b[0m",
      "\u001b[0;31mNameError\u001b[0m                                 Traceback (most recent call last)",
      "Input \u001b[0;32mIn [6]\u001b[0m, in \u001b[0;36m<cell line: 4>\u001b[0;34m()\u001b[0m\n\u001b[1;32m      1\u001b[0m \u001b[38;5;28;01mimport\u001b[39;00m \u001b[38;5;21;01mdatetime\u001b[39;00m\n\u001b[1;32m      3\u001b[0m \u001b[38;5;28mprint\u001b[39m(datetime\u001b[38;5;241m.\u001b[39mdatetime\u001b[38;5;241m.\u001b[39mnow())\n\u001b[0;32m----> 4\u001b[0m \u001b[43mtrainer\u001b[49m\u001b[38;5;241;43m.\u001b[39;49m\u001b[43mfit\u001b[49m\u001b[43m(\u001b[49m\u001b[43mconfig\u001b[49m\u001b[38;5;241;43m.\u001b[39;49m\u001b[43mdevice\u001b[49m\u001b[43m)\u001b[49m\n",
      "File \u001b[0;32m~/Gitrepos/Evaluation-of-Time-Series-Generative-Models/Codes/src/baselines/TimeVAE.py:25\u001b[0m, in \u001b[0;36mTimeVAETrainer.fit\u001b[0;34m(self, device)\u001b[0m\n\u001b[1;32m     22\u001b[0m \u001b[38;5;28mself\u001b[39m\u001b[38;5;241m.\u001b[39mG\u001b[38;5;241m.\u001b[39mto(device)\n\u001b[1;32m     24\u001b[0m \u001b[38;5;28;01mfor\u001b[39;00m i \u001b[38;5;129;01min\u001b[39;00m tqdm(\u001b[38;5;28mrange\u001b[39m(\u001b[38;5;28mself\u001b[39m\u001b[38;5;241m.\u001b[39mn_gradient_steps)):\n\u001b[0;32m---> 25\u001b[0m     \u001b[38;5;28;43mself\u001b[39;49m\u001b[38;5;241;43m.\u001b[39;49m\u001b[43mstep\u001b[49m\u001b[43m(\u001b[49m\u001b[43mdevice\u001b[49m\u001b[43m,\u001b[49m\u001b[43m \u001b[49m\u001b[43mi\u001b[49m\u001b[43m)\u001b[49m\n",
      "File \u001b[0;32m~/Gitrepos/Evaluation-of-Time-Series-Generative-Models/Codes/src/baselines/TimeVAE.py:42\u001b[0m, in \u001b[0;36mTimeVAETrainer.step\u001b[0;34m(self, device, step)\u001b[0m\n\u001b[1;32m     39\u001b[0m     condition \u001b[38;5;241m=\u001b[39m \u001b[38;5;28;01mNone\u001b[39;00m\n\u001b[1;32m     40\u001b[0m     x_real_batch \u001b[38;5;241m=\u001b[39m \u001b[38;5;28mnext\u001b[39m(\u001b[38;5;28miter\u001b[39m(\u001b[38;5;28mself\u001b[39m\u001b[38;5;241m.\u001b[39mtrain_dl))[\u001b[38;5;241m0\u001b[39m]\u001b[38;5;241m.\u001b[39mto(device)\n\u001b[0;32m---> 42\u001b[0m G_loss \u001b[38;5;241m=\u001b[39m \u001b[38;5;28;43mself\u001b[39;49m\u001b[38;5;241;43m.\u001b[39;49m\u001b[43mG_trainstep\u001b[49m\u001b[43m(\u001b[49m\u001b[43mdevice\u001b[49m\u001b[43m,\u001b[49m\u001b[43m \u001b[49m\u001b[43mx_real_batch\u001b[49m\u001b[43m,\u001b[49m\u001b[43m \u001b[49m\u001b[43mstep\u001b[49m\u001b[43m)\u001b[49m\n\u001b[1;32m     43\u001b[0m wandb\u001b[38;5;241m.\u001b[39mlog({\u001b[38;5;124m'\u001b[39m\u001b[38;5;124mG_loss\u001b[39m\u001b[38;5;124m'\u001b[39m: G_loss}, step)\n",
      "File \u001b[0;32m~/Gitrepos/Evaluation-of-Time-Series-Generative-Models/Codes/src/baselines/TimeVAE.py:47\u001b[0m, in \u001b[0;36mTimeVAETrainer.G_trainstep\u001b[0;34m(self, device, x_real, step)\u001b[0m\n\u001b[1;32m     45\u001b[0m \u001b[38;5;28;01mdef\u001b[39;00m \u001b[38;5;21mG_trainstep\u001b[39m(\u001b[38;5;28mself\u001b[39m, device, x_real, step):\n\u001b[0;32m---> 47\u001b[0m     latent_z, mean, log_var \u001b[38;5;241m=\u001b[39m \u001b[38;5;28mself\u001b[39m\u001b[38;5;241m.\u001b[39mG\u001b[38;5;241m.\u001b[39mencoder(\u001b[43mx_real_batch\u001b[49m, device\u001b[38;5;241m=\u001b[39mdevice)\n\u001b[1;32m     48\u001b[0m     toggle_grad(\u001b[38;5;28mself\u001b[39m\u001b[38;5;241m.\u001b[39mG, \u001b[38;5;28;01mTrue\u001b[39;00m)\n\u001b[1;32m     49\u001b[0m     \u001b[38;5;28mself\u001b[39m\u001b[38;5;241m.\u001b[39mG\u001b[38;5;241m.\u001b[39mencoder\u001b[38;5;241m.\u001b[39mtrain()\n",
      "\u001b[0;31mNameError\u001b[0m: name 'x_real_batch' is not defined"
     ]
    }
   ],
   "source": [
    "import datetime\n",
    "\n",
    "print(datetime.datetime.now())\n",
    "trainer.fit(config.device)"
   ]
  },
  {
   "cell_type": "code",
   "execution_count": 7,
   "id": "d346d0dc-9fcc-4cd0-8055-39f03e434119",
   "metadata": {},
   "outputs": [],
   "source": [
    "import torch"
   ]
  },
  {
   "cell_type": "code",
   "execution_count": 8,
   "id": "fb356204-b32b-4e7f-b3fb-0b39c6c38d19",
   "metadata": {},
   "outputs": [],
   "source": [
    "x = torch.rand([4,2,1])"
   ]
  },
  {
   "cell_type": "code",
   "execution_count": 11,
   "id": "5bd5e1db-cf69-4024-b81b-b0b3001a9950",
   "metadata": {},
   "outputs": [
    {
     "data": {
      "text/plain": [
       "torch.Size([4, 1, 2])"
      ]
     },
     "execution_count": 11,
     "metadata": {},
     "output_type": "execute_result"
    }
   ],
   "source": [
    "x.permute([0,2,1]).shape"
   ]
  },
  {
   "cell_type": "code",
   "execution_count": 10,
   "id": "154d60fe-86a5-40e1-b20c-c77f93d6039c",
   "metadata": {},
   "outputs": [
    {
     "data": {
      "text/plain": [
       "torch.Size([4, 2, 1])"
      ]
     },
     "execution_count": 10,
     "metadata": {},
     "output_type": "execute_result"
    }
   ],
   "source": [
    "x.shape"
   ]
  },
  {
   "cell_type": "code",
   "execution_count": null,
   "id": "84f1cbb9-97c8-4a12-9530-ce21263086c3",
   "metadata": {},
   "outputs": [],
   "source": []
  }
 ],
 "metadata": {
  "kernelspec": {
   "display_name": "test_metric2",
   "language": "python",
   "name": "test_metric2"
  },
  "language_info": {
   "codemirror_mode": {
    "name": "ipython",
    "version": 3
   },
   "file_extension": ".py",
   "mimetype": "text/x-python",
   "name": "python",
   "nbconvert_exporter": "python",
   "pygments_lexer": "ipython3",
   "version": "3.10.6"
  }
 },
 "nbformat": 4,
 "nbformat_minor": 5
}
