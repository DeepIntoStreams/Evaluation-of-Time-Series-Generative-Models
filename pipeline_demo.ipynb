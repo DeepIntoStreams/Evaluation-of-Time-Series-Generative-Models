{
 "cells": [
  {
   "cell_type": "code",
   "execution_count": 1,
   "id": "15aa5ccf",
   "metadata": {},
   "outputs": [],
   "source": [
    "import ml_collections\n",
    "from ml_collections.config_dict import ConfigDict\n",
    "import torch\n",
    "import sys\n",
    "from run import main\n",
    "import yaml\n",
    "from IPython.display import Image\n",
    "import pandas as pd"
   ]
  },
  {
   "cell_type": "code",
   "execution_count": 2,
   "id": "8adadd5b",
   "metadata": {},
   "outputs": [],
   "source": [
    "config_dir = 'configs/config.yaml'\n",
    "\n",
    "with open(config_dir) as file:\n",
    "    config = ml_collections.ConfigDict(yaml.safe_load(file))"
   ]
  },
  {
   "cell_type": "markdown",
   "id": "0de108fb",
   "metadata": {},
   "source": [
    "# General config"
   ]
  },
  {
   "cell_type": "markdown",
   "id": "b8ef93c9",
   "metadata": {},
   "source": [
    "Choose GPU and fix the random seed"
   ]
  },
  {
   "cell_type": "code",
   "execution_count": 3,
   "id": "0efcadb9",
   "metadata": {},
   "outputs": [],
   "source": [
    "config.update({\"device\": \"cuda\"}, allow_val_change=True)\n",
    "config.update({\"gpu_id\": \"0\"}, allow_val_change=True)\n",
    "config.update({\"seed\": 0}, allow_val_change=True)"
   ]
  },
  {
   "cell_type": "markdown",
   "id": "b869e288",
   "metadata": {},
   "source": [
    "# Load data"
   ]
  },
  {
   "cell_type": "markdown",
   "id": "c4a7b284",
   "metadata": {},
   "source": [
    "We use SPX stock data with rolling window length of 20"
   ]
  },
  {
   "cell_type": "code",
   "execution_count": 4,
   "id": "4a8f10f0",
   "metadata": {},
   "outputs": [],
   "source": [
    "sample_data = torch.load('data/stock/processed_data_20/train_X.pt')\n",
    "config.update({\"dataset\": \"custom_dataset\"}, allow_val_change=True)"
   ]
  },
  {
   "cell_type": "markdown",
   "id": "dec87a02",
   "metadata": {},
   "source": [
    "# Model architecture setup"
   ]
  },
  {
   "cell_type": "markdown",
   "id": "4b71010a",
   "metadata": {},
   "source": [
    "We train a TimeGAN model"
   ]
  },
  {
   "cell_type": "code",
   "execution_count": 5,
   "id": "6151d561",
   "metadata": {},
   "outputs": [],
   "source": [
    "config.Model.TimeGAN.update({\"generator\": \"LSTM\"}, allow_val_change=True)\n",
    "config.Model.TimeGAN.update({\"discriminator\": \"LSTM\"}, allow_val_change=True)\n",
    "config.Model.TimeGAN.update({\"G_hidden_dim\": 64}, allow_val_change=True)\n",
    "config.Model.TimeGAN.update({\"G_num_layers\": 2}, allow_val_change=True)\n",
    "config.Model.TimeGAN.update({\"D_hidden_dim\": 32}, allow_val_change=True)\n",
    "config.Model.TimeGAN.update({\"D_num_layers\": 3}, allow_val_change=True)"
   ]
  },
  {
   "cell_type": "markdown",
   "id": "1013c1b7",
   "metadata": {},
   "source": [
    "# Training config setup"
   ]
  },
  {
   "cell_type": "code",
   "execution_count": 6,
   "id": "4aa017a3",
   "metadata": {},
   "outputs": [],
   "source": [
    "# Set to number of trianing iterations to 5\n",
    "config.Model.TimeGAN.update({\"steps\": 5}, allow_val_change=True)\n",
    "config.Model.TimeGAN.update({\"lr_G\": 0.002}, allow_val_change=True)\n",
    "config.Model.TimeGAN.update({\"lr_D\": 0.003}, allow_val_change=True)"
   ]
  },
  {
   "cell_type": "markdown",
   "id": "91504b1e",
   "metadata": {},
   "source": [
    "### Train the model"
   ]
  },
  {
   "cell_type": "code",
   "execution_count": 7,
   "id": "0374f223",
   "metadata": {},
   "outputs": [],
   "source": [
    "config.update({\"train\": True}, allow_val_change=True)\n",
    "config.update({\"evaluate\": False}, allow_val_change=True)"
   ]
  },
  {
   "cell_type": "code",
   "execution_count": 8,
   "id": "a3acf082",
   "metadata": {},
   "outputs": [
    {
     "data": {
      "text/html": [
       "Tracking run with wandb version 0.12.14"
      ],
      "text/plain": [
       "<IPython.core.display.HTML object>"
      ]
     },
     "metadata": {},
     "output_type": "display_data"
    },
    {
     "data": {
      "text/html": [
       "W&B syncing is set to <code>`offline`<code> in this directory.  <br/>Run <code>`wandb online`<code> or set <code>WANDB_MODE=online<code> to enable cloud syncing."
      ],
      "text/plain": [
       "<IPython.core.display.HTML object>"
      ]
     },
     "metadata": {},
     "output_type": "display_data"
    },
    {
     "name": "stdout",
     "output_type": "stream",
     "text": [
      "data shape: torch.Size([64, 20, 2])\n",
      "TimeGAN\n",
      "custom_dataset_TimeGAN\n",
      "GPU's available: 1\n",
      "WARNING! The model exists in directory and will be overwritten\n",
      "{'D_hidden_dim': 32, 'D_num_layers': 3, 'D_steps_per_G_step': 3, 'Evaluation': {'TestMetrics': {'acf_loss': {'stationary': True}, 'cov_loss': 'None', 'cross_corr': 'None', 'discriminative_score': {'batch_size': 128, 'epochs': 10, 'hidden_size': 32, 'num_layers': 2}, 'hist_loss': {'n_bins': 50}, 'icd': 'None', 'innd': 'None', 'onnd': 'None', 'permutation_test': {'n_permutation': 5}, 'predictive_score': {'batch_size': 128, 'epochs': 10, 'hidden_size': 32, 'num_layers': 2}, 'sig_mmd': {'depth': 5}, 'sigw1_loss': {'depth': 2, 'normalise': False}}, 'batch_size': 256, 'metrics_enabled': ['discriminative_score', 'predictive_score', 'sigw1', 'hist_loss', 'acf_loss', 'cov_loss', 'cross_corr', 'onnd', 'innd', 'icd'], 'n_eval': 5, 'sample_size': 1000, 'test_ratio': 0.2}, 'G_hidden_dim': 64, 'G_input_dim': 5, 'G_num_layers': 2, 'WANDB': {'log': {'image': False, 'root_dir': './numerical_results'}, 'wandb_api': 'a0a43a4b820d0a581e3579b07d15bd9881f4b559', 'wandb_mode': 'dryrun'}, 'algo': 'TimeGAN', 'allow_val_change': True, 'batch_size': 64, 'conditional': False, 'data_dir': 'data/', 'dataset': 'custom_dataset', 'device': 'cuda:0', 'discriminator': 'LSTM', 'evaluate': False, 'generator': 'LSTM', 'gpu_id': '0', 'include_D': False, 'init_fixed': False, 'lr_D': 0.003, 'lr_G': 0.002, 'model_type': 'GAN', 'n_lags': 20, 'seed': 0, 'steps': 5, 'train': True, 'input_dim': 2, 'exp_dir': './numerical_results/custom_dataset/algo_TimeGAN_G_LSTM_D_LSTM_includeD_False_n_lag_20_0'}\n",
      "2024-01-22 12:38:38.565910\n"
     ]
    },
    {
     "name": "stderr",
     "output_type": "stream",
     "text": [
      "100%|█████████████████████████████████████████████████████████████████████████████████████████████████████████████████████████████████████████████████████████████████████████████████████████████████████████████████████| 5/5 [00:01<00:00,  2.84it/s]\n",
      "100%|█████████████████████████████████████████████████████████████████████████████████████████████████████████████████████████████████████████████████████████████████████████████████████████████████████████████████████| 5/5 [00:01<00:00,  2.90it/s]\n",
      "100%|█████████████████████████████████████████████████████████████████████████████████████████████████████████████████████████████████████████████████████████████████████████████████████████████████████████████████████| 5/5 [00:05<00:00,  1.10s/it]\n",
      "\u001b[34m\u001b[1mwandb\u001b[0m: \u001b[33mWARNING\u001b[0m Symlinked 5 files into the W&B run directory, call wandb.save again to sync new files.\n",
      "\u001b[34m\u001b[1mwandb\u001b[0m: \u001b[33mWARNING\u001b[0m Symlinked 4 files into the W&B run directory, call wandb.save again to sync new files.\n",
      "\u001b[34m\u001b[1mwandb\u001b[0m: \u001b[33mWARNING\u001b[0m Symlinked 2 files into the W&B run directory, call wandb.save again to sync new files.\n"
     ]
    }
   ],
   "source": [
    "main(config = config, algo = \"TimeGAN\", dataset = sample_data)"
   ]
  },
  {
   "cell_type": "markdown",
   "id": "ebe1b714",
   "metadata": {},
   "source": [
    "# Switch to evaluation"
   ]
  },
  {
   "cell_type": "code",
   "execution_count": 5,
   "id": "0cc15661",
   "metadata": {},
   "outputs": [],
   "source": [
    "config.update({\"train\": False}, allow_val_change=True)\n",
    "config.update({\"evaluate\": True}, allow_val_change=True)"
   ]
  },
  {
   "cell_type": "code",
   "execution_count": 6,
   "id": "8382ae87",
   "metadata": {},
   "outputs": [
    {
     "name": "stdout",
     "output_type": "stream",
     "text": [
      "['discriminative_score', 'predictive_score', 'sigw1', 'hist_loss', 'acf_loss', 'cov_loss', 'cross_corr', 'onnd', 'innd', 'icd']\n"
     ]
    }
   ],
   "source": [
    "print(config.Evaluation.metrics_enabled)"
   ]
  },
  {
   "cell_type": "code",
   "execution_count": 7,
   "id": "e57b60e7",
   "metadata": {
    "scrolled": true
   },
   "outputs": [
    {
     "data": {
      "text/html": [
       "Tracking run with wandb version 0.12.14"
      ],
      "text/plain": [
       "<IPython.core.display.HTML object>"
      ]
     },
     "metadata": {},
     "output_type": "display_data"
    },
    {
     "data": {
      "text/html": [
       "W&B syncing is set to <code>`offline`<code> in this directory.  <br/>Run <code>`wandb online`<code> or set <code>WANDB_MODE=online<code> to enable cloud syncing."
      ],
      "text/plain": [
       "<IPython.core.display.HTML object>"
      ]
     },
     "metadata": {},
     "output_type": "display_data"
    },
    {
     "name": "stdout",
     "output_type": "stream",
     "text": [
      "data shape: torch.Size([64, 20, 2])\n",
      "TimeGAN\n",
      "custom_dataset_TimeGAN\n",
      "GPU's available: 1\n",
      "---- evaluation metric = hist_loss in group = stylized_fact_scores ----\n"
     ]
    },
    {
     "name": "stderr",
     "output_type": "stream",
     "text": [
      "100%|█████████████████████████████████████████████████████████████████████████████████████████████████████████████████████████████████████████████████████████████████████████████████████████████████████████████████████| 5/5 [00:00<00:00, 28.33it/s]\n"
     ]
    },
    {
     "name": "stdout",
     "output_type": "stream",
     "text": [
      "---- evaluation metric = acf_loss in group = stylized_fact_scores ----\n"
     ]
    },
    {
     "name": "stderr",
     "output_type": "stream",
     "text": [
      "100%|█████████████████████████████████████████████████████████████████████████████████████████████████████████████████████████████████████████████████████████████████████████████████████████████████████████████████████| 5/5 [00:00<00:00, 89.59it/s]\n"
     ]
    },
    {
     "name": "stdout",
     "output_type": "stream",
     "text": [
      "---- evaluation metric = cov_loss in group = stylized_fact_scores ----\n"
     ]
    },
    {
     "name": "stderr",
     "output_type": "stream",
     "text": [
      "100%|████████████████████████████████████████████████████████████████████████████████████████████████████████████████████████████████████████████████████████████████████████████████████████████████████████████████████| 5/5 [00:00<00:00, 172.12it/s]\n"
     ]
    },
    {
     "name": "stdout",
     "output_type": "stream",
     "text": [
      "---- evaluation metric = cross_corr in group = stylized_fact_scores ----\n"
     ]
    },
    {
     "name": "stderr",
     "output_type": "stream",
     "text": [
      "100%|█████████████████████████████████████████████████████████████████████████████████████████████████████████████████████████████████████████████████████████████████████████████████████████████████████████████████████| 5/5 [00:00<00:00, 59.09it/s]\n"
     ]
    },
    {
     "name": "stdout",
     "output_type": "stream",
     "text": [
      "---- evaluation metric = discriminative_score in group = implicit_scores ----\n"
     ]
    },
    {
     "name": "stderr",
     "output_type": "stream",
     "text": [
      "\r",
      "  0%|                                                                                                                                                                                                                             | 0/5 [00:00<?, ?it/s]"
     ]
    },
    {
     "name": "stdout",
     "output_type": "stream",
     "text": [
      "Epoch 1/10 | Loss: 0.7007 | Acc: 0.5112\n",
      "Epoch 2/10 | Loss: 0.6891 | Acc: 0.4612\n",
      "Epoch 3/10 | Loss: 0.6805 | Acc: 0.6694\n",
      "Epoch 4/10 | Loss: 0.6545 | Acc: 0.7756\n",
      "Epoch 5/10 | Loss: 0.5326 | Acc: 0.8325\n",
      "Epoch 6/10 | Loss: 0.2010 | Acc: 0.9506\n",
      "Epoch 7/10 | Loss: 0.0185 | Acc: 0.9981\n",
      "Epoch 8/10 | Loss: 0.0051 | Acc: 1.0000\n"
     ]
    },
    {
     "name": "stderr",
     "output_type": "stream",
     "text": [
      "\r",
      " 20%|██████████████████████████████████████████▌                                                                                                                                                                          | 1/5 [00:01<00:04,  1.03s/it]"
     ]
    },
    {
     "name": "stdout",
     "output_type": "stream",
     "text": [
      "Epoch 9/10 | Loss: 0.0093 | Acc: 0.9975\n",
      "Epoch 10/10 | Loss: 0.0028 | Acc: 1.0000\n",
      "Epoch 1/10 | Loss: 0.6903 | Acc: 0.5275\n",
      "Epoch 2/10 | Loss: 0.6809 | Acc: 0.7769\n",
      "Epoch 3/10 | Loss: 0.6574 | Acc: 0.7844\n",
      "Epoch 4/10 | Loss: 0.5550 | Acc: 0.8263\n",
      "Epoch 5/10 | Loss: 0.2468 | Acc: 0.9413\n",
      "Epoch 6/10 | Loss: 0.0360 | Acc: 0.9925\n",
      "Epoch 7/10 | Loss: 0.0074 | Acc: 0.9988\n",
      "Epoch 8/10 | Loss: 0.0025 | Acc: 1.0000\n"
     ]
    },
    {
     "name": "stderr",
     "output_type": "stream",
     "text": [
      "\r",
      " 40%|█████████████████████████████████████████████████████████████████████████████████████▏                                                                                                                               | 2/5 [00:02<00:03,  1.04s/it]"
     ]
    },
    {
     "name": "stdout",
     "output_type": "stream",
     "text": [
      "Epoch 9/10 | Loss: 0.0018 | Acc: 1.0000\n",
      "Epoch 10/10 | Loss: 0.0014 | Acc: 1.0000\n",
      "Epoch 1/10 | Loss: 0.6992 | Acc: 0.4919\n",
      "Epoch 2/10 | Loss: 0.6898 | Acc: 0.5400\n",
      "Epoch 3/10 | Loss: 0.6838 | Acc: 0.5994\n",
      "Epoch 4/10 | Loss: 0.6654 | Acc: 0.7044\n",
      "Epoch 5/10 | Loss: 0.5667 | Acc: 0.7581\n",
      "Epoch 6/10 | Loss: 0.2106 | Acc: 0.9513\n",
      "Epoch 7/10 | Loss: 0.0201 | Acc: 0.9994\n",
      "Epoch 8/10 | Loss: 0.0056 | Acc: 0.9994\n"
     ]
    },
    {
     "name": "stderr",
     "output_type": "stream",
     "text": [
      "\r",
      " 60%|███████████████████████████████████████████████████████████████████████████████████████████████████████████████████████████████▊                                                                                     | 3/5 [00:03<00:02,  1.07s/it]"
     ]
    },
    {
     "name": "stdout",
     "output_type": "stream",
     "text": [
      "Epoch 9/10 | Loss: 0.0026 | Acc: 1.0000\n",
      "Epoch 10/10 | Loss: 0.0022 | Acc: 1.0000\n",
      "Epoch 1/10 | Loss: 0.6940 | Acc: 0.5088\n",
      "Epoch 2/10 | Loss: 0.6885 | Acc: 0.6663\n",
      "Epoch 3/10 | Loss: 0.6811 | Acc: 0.6931\n",
      "Epoch 4/10 | Loss: 0.6528 | Acc: 0.7944\n",
      "Epoch 5/10 | Loss: 0.4974 | Acc: 0.8562\n",
      "Epoch 6/10 | Loss: 0.1179 | Acc: 0.9731\n",
      "Epoch 7/10 | Loss: 0.0147 | Acc: 0.9975\n",
      "Epoch 8/10 | Loss: 0.0461 | Acc: 0.9950\n"
     ]
    },
    {
     "name": "stderr",
     "output_type": "stream",
     "text": [
      "\r",
      " 80%|██████████████████████████████████████████████████████████████████████████████████████████████████████████████████████████████████████████████████████████████████████████▍                                          | 4/5 [00:04<00:01,  1.08s/it]"
     ]
    },
    {
     "name": "stdout",
     "output_type": "stream",
     "text": [
      "Epoch 9/10 | Loss: 0.4615 | Acc: 0.9075\n",
      "Epoch 10/10 | Loss: 0.0662 | Acc: 0.9806\n",
      "Epoch 1/10 | Loss: 0.6909 | Acc: 0.5244\n",
      "Epoch 2/10 | Loss: 0.6862 | Acc: 0.7306\n",
      "Epoch 3/10 | Loss: 0.6771 | Acc: 0.6925\n",
      "Epoch 4/10 | Loss: 0.6461 | Acc: 0.7494\n",
      "Epoch 5/10 | Loss: 0.4889 | Acc: 0.8331\n",
      "Epoch 6/10 | Loss: 0.1117 | Acc: 0.9806\n",
      "Epoch 7/10 | Loss: 0.0090 | Acc: 1.0000\n",
      "Epoch 8/10 | Loss: 0.0034 | Acc: 1.0000\n"
     ]
    },
    {
     "name": "stderr",
     "output_type": "stream",
     "text": [
      "100%|█████████████████████████████████████████████████████████████████████████████████████████████████████████████████████████████████████████████████████████████████████████████████████████████████████████████████████| 5/5 [00:05<00:00,  1.07s/it]\n"
     ]
    },
    {
     "name": "stdout",
     "output_type": "stream",
     "text": [
      "Epoch 9/10 | Loss: 0.0023 | Acc: 1.0000\n",
      "Epoch 10/10 | Loss: 0.0019 | Acc: 1.0000\n",
      "---- evaluation metric = predictive_score in group = implicit_scores ----\n"
     ]
    },
    {
     "name": "stderr",
     "output_type": "stream",
     "text": [
      "\r",
      "  0%|                                                                                                                                                                                                                             | 0/5 [00:00<?, ?it/s]"
     ]
    },
    {
     "name": "stdout",
     "output_type": "stream",
     "text": [
      "Epoch 1/10 | Loss: 0.1105\n",
      "Epoch 2/10 | Loss: 0.0461\n",
      "Epoch 3/10 | Loss: 0.0199\n",
      "Epoch 4/10 | Loss: 0.0108\n",
      "Epoch 5/10 | Loss: 0.0045\n",
      "Epoch 6/10 | Loss: 0.0026\n",
      "Epoch 7/10 | Loss: 0.0017\n"
     ]
    },
    {
     "name": "stderr",
     "output_type": "stream",
     "text": [
      "\r",
      " 20%|██████████████████████████████████████████▌                                                                                                                                                                          | 1/5 [00:00<00:02,  1.42it/s]"
     ]
    },
    {
     "name": "stdout",
     "output_type": "stream",
     "text": [
      "Epoch 8/10 | Loss: 0.0014\n",
      "Epoch 9/10 | Loss: 0.0011\n",
      "Epoch 10/10 | Loss: 0.0010\n",
      "Epoch 1/10 | Loss: 0.1441\n",
      "Epoch 2/10 | Loss: 0.0809\n",
      "Epoch 3/10 | Loss: 0.0321\n",
      "Epoch 4/10 | Loss: 0.0157\n",
      "Epoch 5/10 | Loss: 0.0093\n",
      "Epoch 6/10 | Loss: 0.0049\n",
      "Epoch 7/10 | Loss: 0.0041\n"
     ]
    },
    {
     "name": "stderr",
     "output_type": "stream",
     "text": [
      "\r",
      " 40%|█████████████████████████████████████████████████████████████████████████████████████▏                                                                                                                               | 2/5 [00:01<00:02,  1.44it/s]"
     ]
    },
    {
     "name": "stdout",
     "output_type": "stream",
     "text": [
      "Epoch 8/10 | Loss: 0.0029\n",
      "Epoch 9/10 | Loss: 0.0017\n",
      "Epoch 10/10 | Loss: 0.0009\n",
      "Epoch 1/10 | Loss: 0.0392\n",
      "Epoch 2/10 | Loss: 0.0138\n",
      "Epoch 3/10 | Loss: 0.0078\n",
      "Epoch 4/10 | Loss: 0.0040\n",
      "Epoch 5/10 | Loss: 0.0026\n",
      "Epoch 6/10 | Loss: 0.0023\n",
      "Epoch 7/10 | Loss: 0.0012\n",
      "Epoch 8/10 | Loss: 0.0010\n"
     ]
    },
    {
     "name": "stderr",
     "output_type": "stream",
     "text": [
      "\r",
      " 60%|███████████████████████████████████████████████████████████████████████████████████████████████████████████████████████████████▊                                                                                     | 3/5 [00:02<00:01,  1.47it/s]"
     ]
    },
    {
     "name": "stdout",
     "output_type": "stream",
     "text": [
      "Epoch 9/10 | Loss: 0.0014\n",
      "Epoch 10/10 | Loss: 0.0015\n",
      "Epoch 1/10 | Loss: 0.0450\n",
      "Epoch 2/10 | Loss: 0.0111\n",
      "Epoch 3/10 | Loss: 0.0068\n",
      "Epoch 4/10 | Loss: 0.0053\n",
      "Epoch 5/10 | Loss: 0.0031\n",
      "Epoch 6/10 | Loss: 0.0016\n",
      "Epoch 7/10 | Loss: 0.0011\n",
      "Epoch 8/10 | Loss: 0.0008\n",
      "Epoch 9/10 | Loss: 0.0009\n"
     ]
    },
    {
     "name": "stderr",
     "output_type": "stream",
     "text": [
      "\r",
      " 80%|██████████████████████████████████████████████████████████████████████████████████████████████████████████████████████████████████████████████████████████████████████████▍                                          | 4/5 [00:02<00:00,  1.49it/s]"
     ]
    },
    {
     "name": "stdout",
     "output_type": "stream",
     "text": [
      "Epoch 10/10 | Loss: 0.0013\n",
      "Epoch 1/10 | Loss: 0.1004\n",
      "Epoch 2/10 | Loss: 0.0511\n",
      "Epoch 3/10 | Loss: 0.0238\n",
      "Epoch 4/10 | Loss: 0.0083\n",
      "Epoch 5/10 | Loss: 0.0056\n",
      "Epoch 6/10 | Loss: 0.0046\n",
      "Epoch 7/10 | Loss: 0.0032\n",
      "Epoch 8/10 | Loss: 0.0021\n",
      "Epoch 9/10 | Loss: 0.0014\n",
      "Epoch 10/10 | Loss: 0.0013\n"
     ]
    },
    {
     "name": "stderr",
     "output_type": "stream",
     "text": [
      "100%|█████████████████████████████████████████████████████████████████████████████████████████████████████████████████████████████████████████████████████████████████████████████████████████████████████████████████████| 5/5 [00:03<00:00,  1.48it/s]\n"
     ]
    },
    {
     "name": "stdout",
     "output_type": "stream",
     "text": [
      "---- evaluation metric = sigw1 in group = sig_scores ----\n"
     ]
    },
    {
     "name": "stderr",
     "output_type": "stream",
     "text": [
      "100%|████████████████████████████████████████████████████████████████████████████████████████████████████████████████████████████████████████████████████████████████████████████████████████████████████████████████████| 5/5 [00:00<00:00, 104.54it/s]\n"
     ]
    },
    {
     "name": "stdout",
     "output_type": "stream",
     "text": [
      " No metrics enabled in group = permutation_test\n",
      "---- evaluation metric = onnd in group = distance_based_metrics ----\n"
     ]
    },
    {
     "name": "stderr",
     "output_type": "stream",
     "text": [
      "100%|█████████████████████████████████████████████████████████████████████████████████████████████████████████████████████████████████████████████████████████████████████████████████████████████████████████████████████| 5/5 [00:12<00:00,  2.41s/it]\n"
     ]
    },
    {
     "name": "stdout",
     "output_type": "stream",
     "text": [
      "---- evaluation metric = innd in group = distance_based_metrics ----\n"
     ]
    },
    {
     "name": "stderr",
     "output_type": "stream",
     "text": [
      "100%|█████████████████████████████████████████████████████████████████████████████████████████████████████████████████████████████████████████████████████████████████████████████████████████████████████████████████████| 5/5 [00:16<00:00,  3.38s/it]\n"
     ]
    },
    {
     "name": "stdout",
     "output_type": "stream",
     "text": [
      "---- evaluation metric = icd in group = distance_based_metrics ----\n"
     ]
    },
    {
     "name": "stderr",
     "output_type": "stream",
     "text": [
      "100%|█████████████████████████████████████████████████████████████████████████████████████████████████████████████████████████████████████████████████████████████████████████████████████████████████████████████████████| 5/5 [00:17<00:00,  3.40s/it]\n"
     ]
    },
    {
     "name": "stdout",
     "output_type": "stream",
     "text": [
      "[t-SNE] Computing 121 nearest neighbors...\n",
      "[t-SNE] Indexed 1080 samples in 0.000s...\n"
     ]
    },
    {
     "name": "stderr",
     "output_type": "stream",
     "text": [
      "Exception ignored on calling ctypes callback function: <function _ThreadpoolInfo._find_modules_with_dl_iterate_phdr.<locals>.match_module_callback at 0x7f8f9c468c10>\n",
      "Traceback (most recent call last):\n",
      "  File \"/home/jtao/ac3/lib/python3.9/site-packages/threadpoolctl.py\", line 400, in match_module_callback\n",
      "    self._make_module_from_path(filepath)\n",
      "  File \"/home/jtao/ac3/lib/python3.9/site-packages/threadpoolctl.py\", line 515, in _make_module_from_path\n",
      "    module = module_class(filepath, prefix, user_api, internal_api)\n",
      "  File \"/home/jtao/ac3/lib/python3.9/site-packages/threadpoolctl.py\", line 606, in __init__\n",
      "    self.version = self.get_version()\n",
      "  File \"/home/jtao/ac3/lib/python3.9/site-packages/threadpoolctl.py\", line 646, in get_version\n",
      "    config = get_config().split()\n",
      "AttributeError: 'NoneType' object has no attribute 'split'\n"
     ]
    },
    {
     "name": "stdout",
     "output_type": "stream",
     "text": [
      "[t-SNE] Computed neighbors for 1080 samples in 0.462s...\n",
      "[t-SNE] Computed conditional probabilities for sample 1000 / 1080\n",
      "[t-SNE] Computed conditional probabilities for sample 1080 / 1080\n",
      "[t-SNE] Mean sigma: 0.000158\n",
      "[t-SNE] KL divergence after 250 iterations with early exaggeration: 61.059402\n",
      "[t-SNE] KL divergence after 300 iterations: 1.087111\n"
     ]
    },
    {
     "name": "stderr",
     "output_type": "stream",
     "text": [
      "\u001b[34m\u001b[1mwandb\u001b[0m: \u001b[33mWARNING\u001b[0m Symlinked 7 files into the W&B run directory, call wandb.save again to sync new files.\n",
      "\u001b[34m\u001b[1mwandb\u001b[0m: \u001b[33mWARNING\u001b[0m Symlinked 4 files into the W&B run directory, call wandb.save again to sync new files.\n",
      "\u001b[34m\u001b[1mwandb\u001b[0m: \u001b[33mWARNING\u001b[0m Symlinked 0 file into the W&B run directory, call wandb.save again to sync new files.\n"
     ]
    }
   ],
   "source": [
    "main(config = config, algo = \"TimeGAN\", dataset = sample_data)"
   ]
  },
  {
   "cell_type": "markdown",
   "id": "ff215d09",
   "metadata": {},
   "source": [
    "The evaluation results, together with the trained model will be saved under \"numerical_results\" forlde"
   ]
  },
  {
   "cell_type": "code",
   "execution_count": 8,
   "id": "dc221926",
   "metadata": {},
   "outputs": [],
   "source": [
    "res_dir = \"./numerical_results/custom_dataset/algo_TimeGAN_G_LSTM_D_LSTM_includeD_False_n_lag_20_0/\""
   ]
  },
  {
   "cell_type": "markdown",
   "id": "1620fbfd",
   "metadata": {},
   "source": [
    "# Test metrics"
   ]
  },
  {
   "cell_type": "markdown",
   "id": "dcfbc3f8",
   "metadata": {},
   "source": [
    "The evaluation is run over 5 iterations, the mean ans standard deviation are collected and stored as \"final_results.csv\""
   ]
  },
  {
   "cell_type": "code",
   "execution_count": 10,
   "id": "a998fa29",
   "metadata": {},
   "outputs": [
    {
     "data": {
      "text/html": [
       "<div>\n",
       "<style scoped>\n",
       "    .dataframe tbody tr th:only-of-type {\n",
       "        vertical-align: middle;\n",
       "    }\n",
       "\n",
       "    .dataframe tbody tr th {\n",
       "        vertical-align: top;\n",
       "    }\n",
       "\n",
       "    .dataframe thead th {\n",
       "        text-align: right;\n",
       "    }\n",
       "</style>\n",
       "<table border=\"1\" class=\"dataframe\">\n",
       "  <thead>\n",
       "    <tr style=\"text-align: right;\">\n",
       "      <th></th>\n",
       "      <th>0</th>\n",
       "    </tr>\n",
       "  </thead>\n",
       "  <tbody>\n",
       "    <tr>\n",
       "      <th>Unnamed: 0</th>\n",
       "      <td>0.000000</td>\n",
       "    </tr>\n",
       "    <tr>\n",
       "      <th>hist_loss_mean</th>\n",
       "      <td>0.218340</td>\n",
       "    </tr>\n",
       "    <tr>\n",
       "      <th>hist_loss_std</th>\n",
       "      <td>0.005722</td>\n",
       "    </tr>\n",
       "    <tr>\n",
       "      <th>acf_loss_mean</th>\n",
       "      <td>4.096016</td>\n",
       "    </tr>\n",
       "    <tr>\n",
       "      <th>acf_loss_std</th>\n",
       "      <td>0.029237</td>\n",
       "    </tr>\n",
       "    <tr>\n",
       "      <th>cov_loss_mean</th>\n",
       "      <td>0.232300</td>\n",
       "    </tr>\n",
       "    <tr>\n",
       "      <th>cov_loss_std</th>\n",
       "      <td>0.005398</td>\n",
       "    </tr>\n",
       "    <tr>\n",
       "      <th>cross_corr_mean</th>\n",
       "      <td>1.139979</td>\n",
       "    </tr>\n",
       "    <tr>\n",
       "      <th>cross_corr_std</th>\n",
       "      <td>0.007666</td>\n",
       "    </tr>\n",
       "    <tr>\n",
       "      <th>discriminative_score_mean</th>\n",
       "      <td>0.500000</td>\n",
       "    </tr>\n",
       "    <tr>\n",
       "      <th>discriminative_score_std</th>\n",
       "      <td>0.000000</td>\n",
       "    </tr>\n",
       "    <tr>\n",
       "      <th>predictive_score_mean</th>\n",
       "      <td>0.700857</td>\n",
       "    </tr>\n",
       "    <tr>\n",
       "      <th>predictive_score_std</th>\n",
       "      <td>0.009370</td>\n",
       "    </tr>\n",
       "    <tr>\n",
       "      <th>sigw1_mean</th>\n",
       "      <td>2.693586</td>\n",
       "    </tr>\n",
       "    <tr>\n",
       "      <th>sigw1_std</th>\n",
       "      <td>0.026023</td>\n",
       "    </tr>\n",
       "    <tr>\n",
       "      <th>onnd_mean</th>\n",
       "      <td>1.106067</td>\n",
       "    </tr>\n",
       "    <tr>\n",
       "      <th>onnd_std</th>\n",
       "      <td>0.011017</td>\n",
       "    </tr>\n",
       "    <tr>\n",
       "      <th>innd_mean</th>\n",
       "      <td>0.454920</td>\n",
       "    </tr>\n",
       "    <tr>\n",
       "      <th>innd_std</th>\n",
       "      <td>0.002992</td>\n",
       "    </tr>\n",
       "    <tr>\n",
       "      <th>icd_mean</th>\n",
       "      <td>0.000420</td>\n",
       "    </tr>\n",
       "    <tr>\n",
       "      <th>icd_std</th>\n",
       "      <td>0.000008</td>\n",
       "    </tr>\n",
       "  </tbody>\n",
       "</table>\n",
       "</div>"
      ],
      "text/plain": [
       "                                  0\n",
       "Unnamed: 0                 0.000000\n",
       "hist_loss_mean             0.218340\n",
       "hist_loss_std              0.005722\n",
       "acf_loss_mean              4.096016\n",
       "acf_loss_std               0.029237\n",
       "cov_loss_mean              0.232300\n",
       "cov_loss_std               0.005398\n",
       "cross_corr_mean            1.139979\n",
       "cross_corr_std             0.007666\n",
       "discriminative_score_mean  0.500000\n",
       "discriminative_score_std   0.000000\n",
       "predictive_score_mean      0.700857\n",
       "predictive_score_std       0.009370\n",
       "sigw1_mean                 2.693586\n",
       "sigw1_std                  0.026023\n",
       "onnd_mean                  1.106067\n",
       "onnd_std                   0.011017\n",
       "innd_mean                  0.454920\n",
       "innd_std                   0.002992\n",
       "icd_mean                   0.000420\n",
       "icd_std                    0.000008"
      ]
     },
     "execution_count": 10,
     "metadata": {},
     "output_type": "execute_result"
    }
   ],
   "source": [
    "df = pd.read_csv(res_dir+'final_results.csv').T\n",
    "df"
   ]
  }
 ],
 "metadata": {
  "kernelspec": {
   "display_name": "test_metric",
   "language": "python",
   "name": "test_metric"
  },
  "language_info": {
   "codemirror_mode": {
    "name": "ipython",
    "version": 3
   },
   "file_extension": ".py",
   "mimetype": "text/x-python",
   "name": "python",
   "nbconvert_exporter": "python",
   "pygments_lexer": "ipython3",
   "version": "3.9.13"
  }
 },
 "nbformat": 4,
 "nbformat_minor": 5
}
